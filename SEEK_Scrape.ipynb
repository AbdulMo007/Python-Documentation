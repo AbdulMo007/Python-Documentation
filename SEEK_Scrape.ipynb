{
 "cells": [
  {
   "cell_type": "code",
   "execution_count": 8,
   "metadata": {},
   "outputs": [],
   "source": [
    "#This script will let you choose filters on seek.com and export the results in a csv. \n",
    "#The benefit is that you get to view jobs in excel and manipulate data as per your wish"
   ]
  },
  {
   "cell_type": "code",
   "execution_count": 5,
   "metadata": {},
   "outputs": [],
   "source": [
    "import pandas as pd\n",
    "import requests\n",
    "from tqdm import tqdm\n",
    "from scrapy.http import TextResponse\n",
    "from selenium import webdriver"
   ]
  },
  {
   "cell_type": "code",
   "execution_count": 6,
   "metadata": {},
   "outputs": [
    {
     "name": "stderr",
     "output_type": "stream",
     "text": [
      "C:\\Users\\muqta\\AppData\\Local\\Temp\\ipykernel_24388\\1840611593.py:2: DeprecationWarning: executable_path has been deprecated, please pass in a Service object\n",
      "  driver = webdriver.Chrome('./chromedriver_win32/chromedriver.exe')\n"
     ]
    }
   ],
   "source": [
    "url = 'https://www.seek.com.au/jobs-in-information-communication-technology?daterange=3&salaryrange=100000-150000&salarytype=annual&where=Work%20from%20home'\n",
    "driver = webdriver.Chrome('./chromedriver_win32/chromedriver.exe')\n",
    "driver.get(url)"
   ]
  },
  {
   "cell_type": "code",
   "execution_count": 3,
   "metadata": {},
   "outputs": [],
   "source": [
    "start_url = driver.current_url\n",
    "seek_job = {'Url':[],'Title':[],'Company':[],'Posted':[],'Text':[]}\n",
    "\n",
    "def scrape():\n",
    "    for i in tqdm(range(1, 4)):\n",
    "        link = start_url + '&page=' + str(i)\n",
    "        res = requests.get(link)\n",
    "        response = TextResponse(res.url, body=res.text, encoding='utf-8')\n",
    "        links = [response.urljoin(i) for i in response.xpath('//a[@data-automation=\"job-list-view-job-link\"]/@href').extract()]\n",
    "        for j in links:\n",
    "            res = requests.get(j)\n",
    "            response = TextResponse(res.url, body=res.text, encoding='utf-8')\n",
    "            seek_job['Url'].append(j)\n",
    "            title = response.xpath('//h1[@data-automation=\"job-detail-title\"]/text()').extract_first()\n",
    "            seek_job['Title'].append(title)\n",
    "            company = response.xpath('//span[@data-automation=\"advertiser-name\"]//text()').extract_first()\n",
    "            seek_job['Company'].append(company)\n",
    "            posted = response.xpath('//span[contains(@class, \"_4603vi0\") and contains(text(), \"Posted\")]/text()').extract_first()\n",
    "            seek_job['Posted'].append(posted)\n",
    "            text = ' '.join(response.xpath('//div[@data-automation=\"jobAdDetails\"]//text()').extract())\n",
    "            seek_job['Text'].append(text)\n",
    "    return seek_job\n"
   ]
  },
  {
   "cell_type": "code",
   "execution_count": 4,
   "metadata": {},
   "outputs": [
    {
     "name": "stderr",
     "output_type": "stream",
     "text": [
      "100%|██████████| 5/5 [00:38<00:00,  7.66s/it]\n"
     ]
    }
   ],
   "source": [
    "seek_job_data = scrape()\n",
    "seek_jobs_df = pd.DataFrame(seek_job_data)\n",
    "seek_jobs_df.to_csv('testback221.csv',index=False)"
   ]
  }
 ],
 "metadata": {
  "kernelspec": {
   "display_name": "Python 3",
   "language": "python",
   "name": "python3"
  },
  "language_info": {
   "codemirror_mode": {
    "name": "ipython",
    "version": 3
   },
   "file_extension": ".py",
   "mimetype": "text/x-python",
   "name": "python",
   "nbconvert_exporter": "python",
   "pygments_lexer": "ipython3",
   "version": "3.8.8"
  }
 },
 "nbformat": 4,
 "nbformat_minor": 2
}

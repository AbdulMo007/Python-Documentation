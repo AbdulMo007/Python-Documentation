{
 "cells": [
  {
   "cell_type": "code",
   "execution_count": 1,
   "metadata": {},
   "outputs": [],
   "source": [
    "import pandas as pd\n",
    "import requests\n",
    "from tqdm import tqdm\n",
    "from scrapy.http import TextResponse\n",
    "from selenium import webdriver"
   ]
  },
  {
   "cell_type": "code",
   "execution_count": 2,
   "metadata": {},
   "outputs": [
    {
     "name": "stderr",
     "output_type": "stream",
     "text": [
      "<ipython-input-2-2afe550d7d72>:2: DeprecationWarning: executable_path has been deprecated, please pass in a Service object\n",
      "  driver = webdriver.Chrome('./chromedriver_win32/chromedriver.exe')\n"
     ]
    }
   ],
   "source": [
    "url = 'https://www.seek.com.au/'\n",
    "driver = webdriver.Chrome('./chromedriver_win32/chromedriver.exe')\n",
    "driver.get(url)"
   ]
  },
  {
   "cell_type": "code",
   "execution_count": 5,
   "metadata": {},
   "outputs": [],
   "source": [
    "start_url = driver.current_url\n",
    "seek_job = {'Url':[],'Title':[],'Company':[],'Posted':[],'Text':[]}\n",
    "def scrape():\n",
    "    for i in tqdm(range(1, 6)):\n",
    "        link = start_url+'?page='+str(i)\n",
    "        res = requests.get(link)\n",
    "        response = TextResponse(res.url, body=res.text, encoding='utf-8')\n",
    "        links = [response.urljoin(i) for i in response.xpath('//a[@data-automation=\"jobTitle\"]/@href').extract()]\n",
    "        for j in links:\n",
    "            res = requests.get(j)\n",
    "            response = TextResponse(res.url, body=res.text, encoding='utf-8')\n",
    "            seek_job['Url'].append(j)\n",
    "            title = response.xpath('//h1[@data-automation=\"job-detail-title\"]/text()').extract_first()\n",
    "            seek_job['Title'].append(title)\n",
    "            company = response.xpath('//span[@data-automation=\"advertiser-name\"]//text()').extract_first()\n",
    "            seek_job['Company'].append(company)\n",
    "            posted = response.xpath('//*[contains(text(),\"Posted\")]/span/text()').extract_first()\n",
    "            seek_job['Posted'].append(posted)\n",
    "            text = ' '.join(response.xpath('//div[@data-automation=\"jobAdDetails\"]//text()').extract())\n",
    "            seek_job['Text'].append(text)\n",
    "    return seek_job"
   ]
  },
  {
   "cell_type": "code",
   "execution_count": null,
   "metadata": {},
   "outputs": [],
   "source": []
  },
  {
   "cell_type": "code",
   "execution_count": 6,
   "metadata": {},
   "outputs": [
    {
     "name": "stderr",
     "output_type": "stream",
     "text": [
      "100%|████████████████████████████████████████████████████████████████████████████████████| 5/5 [01:30<00:00, 18.08s/it]\n"
     ]
    }
   ],
   "source": [
    "seek_job_data = scrape()\n",
    "seek_jobs_df = pd.DataFrame(seek_job_data)\n",
    "seek_jobs_df.to_csv('commbank.csv',index=False)"
   ]
  },
  {
   "cell_type": "code",
   "execution_count": 10,
   "metadata": {},
   "outputs": [],
   "source": [
    "pd.Series(' '.join(seek_jobs_df['Text']).split()).value_counts().to_csv('perfekt.csv')"
   ]
  },
  {
   "cell_type": "code",
   "execution_count": null,
   "metadata": {},
   "outputs": [],
   "source": []
  }
 ],
 "metadata": {
  "kernelspec": {
   "display_name": "Python 3",
   "language": "python",
   "name": "python3"
  },
  "language_info": {
   "codemirror_mode": {
    "name": "ipython",
    "version": 3
   },
   "file_extension": ".py",
   "mimetype": "text/x-python",
   "name": "python",
   "nbconvert_exporter": "python",
   "pygments_lexer": "ipython3",
   "version": "3.8.8"
  }
 },
 "nbformat": 4,
 "nbformat_minor": 4
}
